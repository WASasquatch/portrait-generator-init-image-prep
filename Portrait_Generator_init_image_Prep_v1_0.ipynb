{
  "nbformat": 4,
  "nbformat_minor": 0,
  "metadata": {
    "colab": {
      "name": "Portrait Generator init_image Prep v1.0.ipynb",
      "provenance": [],
      "collapsed_sections": [],
      "private_outputs": true,
      "authorship_tag": "ABX9TyPLywsEKxjm7W470HCqG5Fc",
      "include_colab_link": true
    },
    "kernelspec": {
      "name": "python3",
      "display_name": "Python 3"
    },
    "language_info": {
      "name": "python"
    },
    "gpuClass": "standard"
  },
  "cells": [
    {
      "cell_type": "markdown",
      "metadata": {
        "id": "view-in-github",
        "colab_type": "text"
      },
      "source": [
        "<a href=\"https://colab.research.google.com/github/WASasquatch/portrait-generator-init-image-prep/blob/main/Portrait_Generator_init_image_Prep_v1_0.ipynb\" target=\"_parent\"><img src=\"https://colab.research.google.com/assets/colab-badge.svg\" alt=\"Open In Colab\"/></a>"
      ]
    },
    {
      "cell_type": "markdown",
      "source": [
        "# Portrait Generator `init_image` Prep v1.0 ![visitors](https://visitor-badge.glitch.me/badge?page_id=portrait-generator-prep-images&left_color=blue&right_color=orange) \n",
        "[![GitHub](https://img.shields.io/badge/github-%23121011.svg?style=for-the-badge&logo=github&logoColor=white)](https://github.com/WASasquatch/portrait-generator-init-image-prep)\n",
        "\n",
        "Process portrait images to be more compatible with the Portrait Generator in [Disco Diffusion](https://discodiffusion.com/) or [DD Portrait Playground](https://rebrand.ly/portrait-playground) for creating unique portraits. However, this method of image approximation for diffusion is not exclusive to portraits and works for a wide range of subjects.\n",
        "\n",
        "<br>\n",
        "\n",
        "Notebook created by **WAS**asquatch <font size=\"2\">(<font color=\"7e87f6\">Discord</font>: WAS\\#0263)</font>\n",
        "\n",
        "\n",
        "*licensed under MIT license*\n",
        "\n",
        "## Why prep portrait `init_images`?\n",
        "\n",
        "Prepping portrait images allows DD to start with an initial init that is easier to imrpovise on. When using a raw portrait of a person, DD has a hard time keeping the cohesion of the original image through diffusion.\n",
        "\n",
        "If you have Adobe Photoshop, you can always just do **Gaussian Blur -> Add Noise -> Smart Blur**\n",
        "\n",
        "I have also created a simple [Photoshop Action File](https://github.com/WASasquatch/portrait-generator-init-image-prep/raw/main/DD%20Image%20Prep.atn) for doing this."
      ],
      "metadata": {
        "id": "BJh7SEV9qwo4"
      }
    },
    {
      "cell_type": "code",
      "source": [
        "#@title Setup Environment\n",
        "!mkdir -p raw_images result_images\n",
        "!pip install -q wget Pillow ipyplot\n",
        "\n",
        "import os, wget, re, cv2, ipyplot, shutil\n",
        "import numpy as np\n",
        "import ipywidgets as widgets\n",
        "from os import walk\n",
        "from pprint import pprint\n",
        "from PIL import ImageFilter, ImageOps\n",
        "from PIL import Image as PILImage \n",
        "from IPython.display import display, Javascript, clear_output\n",
        "from google.colab.output import eval_js\n",
        "from base64 import b64encode\n",
        "from google.colab import files\n",
        "\n",
        "do_sample_images = True #@param{type: 'boolean'}\n",
        "#@markdown Download sample images from [Unsplash](https://unsplash.com/) for demonstration purposes\n",
        "sample_images = ['https://unsplash.com/photos/3TLl_97HNJo/download?ixid=MnwxMjA3fDB8MXxzZWFyY2h8MXx8cG9ydHJhaXR8ZW58MHx8fHwxNjU5Mjg4OTg4&force=true', 'https://unsplash.com/photos/bqe0J0b26RQ/download?ixid=MnwxMjA3fDB8MXxzZWFyY2h8M3x8cG9ydHJhaXR8ZW58MHx8fHwxNjU5Mjg4OTg4&force=true', 'https://unsplash.com/photos/iFgRcqHznqg/download?ixid=MnwxMjA3fDB8MXxzZWFyY2h8MTB8fHBvcnRyYWl0fGVufDB8fHx8MTY1OTI4ODk4OA&force=true', 'https://unsplash.com/photos/AGlO2jlVE4c/download?ixid=MnwxMjA3fDB8MXxzZWFyY2h8NHx8cG9ydHJhaXQlMjBibGFjayUyMG1hbnxlbnwwfHx8fDE2NTkyOTQ4MzM&force=true']\n",
        "sample_path = '.'+os.sep+'raw_images'\n",
        "result_path = '.'+os.sep+'result_images'\n",
        "maximum_image_width = 512 #@param{type: 'number'}\n",
        "#@markdown **Note:** `maximum_image_width` controls the maximum allowed size of returned sample images as well as your uploaded images if `resize_uploaded_images` is `True`\n",
        "valid_ext = ['.jpg','.jpeg','.gif','.png']\n",
        "\n",
        "class log:\n",
        "    f = lambda color: lambda string: print(color + string + \"\\33[0m\")\n",
        "    black = f(\"\\33[30m\")\n",
        "    red = f(\"\\33[31m\")\n",
        "    green = f(\"\\33[32m\")\n",
        "    yellow = f(\"\\33[33m\")\n",
        "    blue = f(\"\\33[34m\")\n",
        "    megenta = f(\"\\33[35m\")\n",
        "    cyan = f(\"\\33[36m\")\n",
        "    white = f(\"\\33[37m\")\n",
        "    bold = f(\"\\033[1m\")\n",
        "    boldred = f(\"\\033[1m\\33[31m\")\n",
        "    boldgreen = f(\"\\033[1m\\33[32m\")\n",
        "    boldyellow = f(\"\\033[1m\\33[33m\")\n",
        "    boldblue = f(\"\\033[1m\\33[34m\")\n",
        "    boldmegenta = f(\"\\033[1m\\33[35m\")\n",
        "    boldcyan = f(\"\\033[1m\\33[36m\")\n",
        "\n",
        "def resize_source_image(image, width):\n",
        "  img = PILImage.open(image)\n",
        "  wpercent = (width / float(img.size[0]))\n",
        "  hsize = int((float(img.size[1]) * float(wpercent)))\n",
        "  img = img.resize((width, hsize), PILImage.ANTIALIAS)\n",
        "  img.save(image)\n",
        "\n",
        "def imshow(name, img):\n",
        "  img = cv2.imread(img)\n",
        "  js = Javascript('''\n",
        "    async function showImage(name, image, width, height) {\n",
        "      img = document.getElementById(name);\n",
        "      cont = document.getElementById(name+'_container')\n",
        "      if(img == null && cont == null) {\n",
        "        cont = document.createElement('div');\n",
        "        cont.id = name+'_container';\n",
        "        link = document.createElement('a');\n",
        "        link.href = image;\n",
        "        link.target = '_blank';\n",
        "        img = document.createElement('img');\n",
        "        img.id = name;\n",
        "        img.class = \"resultImage\"\n",
        "        cont.style = 'display:inline-block;width:auto;text-align:center;font-size:14px;font-weight:bold;background-color:rgba(0,0,0,0.1);border-radius:5px;padding:2px;margin:2px;'\n",
        "        document.body.appendChild(cont)\n",
        "        cont.innerHTML = '<p style=\"margin:3px;\">'+name+'</p>';\n",
        "        cont.appendChild(link);\n",
        "        link.appendChild(img);\n",
        "      }\n",
        "      img.src = image;\n",
        "      img.width = width / 2;\n",
        "      img.height = height / 2;\n",
        "      img.style = \"margin: 5px; vertical-align: text-top\";\n",
        "    }\n",
        "  ''')\n",
        "  height, width = img.shape[:2]\n",
        "  ret, data = cv2.imencode('.png', img)\n",
        "  data = b64encode(data)\n",
        "  data = data.decode()\n",
        "  data = 'data:image/png;base64,' + data\n",
        "  display(js)\n",
        "  eval_js(f'showImage(\"{name}\", \"{data}\", {width}, {height})')  \n",
        "\n",
        "if do_sample_images:\n",
        "  if sample_images:\n",
        "    i = 1\n",
        "    for img in sample_images:\n",
        "      download = wget.download(img, out = sample_path)\n",
        "      file_ext = os.path.splitext(download)[1]\n",
        "      new_file = sample_path+os.sep+'sample_'+str(i)+file_ext\n",
        "      os.rename(download, new_file)\n",
        "      resize_source_image(new_file, maximum_image_width)\n",
        "      i = i+1\n",
        "\n",
        "log.boldgreen(\"Setup complete.\")"
      ],
      "metadata": {
        "id": "i1v886KLnXlL",
        "cellView": "form"
      },
      "execution_count": null,
      "outputs": []
    },
    {
      "cell_type": "markdown",
      "source": [
        "# Upload Image"
      ],
      "metadata": {
        "id": "w4uaqzrXkgxk"
      }
    },
    {
      "cell_type": "markdown",
      "source": [
        "Open the file manager on the left hand side, and upload your files to the `raw_images` folder. If the `raw_images` folder doesn't exist, run the **Setup Environment** cell. \n",
        "\n",
        "***Optionally*** you can upload zip archives to the `raw_images` directory, and run the **Unpack Zip Arvhives** cell. "
      ],
      "metadata": {
        "id": "8CE7R5eCo9CF"
      }
    },
    {
      "cell_type": "code",
      "source": [
        "#@title Unpack Archives\n",
        "#@markdown *Recursively unpack all archives in `raw_images` directory.* <br><br>**Supported Formats:** ***`zip`, `tar`, `gztar`, `bztar`, or `xztar`***\n",
        "\n",
        "raw_filenames = next(walk(sample_path), (None, None, []))[2]\n",
        "if raw_filenames:\n",
        "  for rf in sorted(raw_filenames):\n",
        "    file_ext = os.path.splitext(rf)[1]\n",
        "    if file_ext.lower() == '.zip':\n",
        "      log.yellow('Extracting archive '+rf)\n",
        "      extract = shutil.unpack_archive(sample_path+os.sep+rf, sample_path)\n",
        "      log.boldgreen(' - Extracted archive successfully')\n"
      ],
      "metadata": {
        "id": "5GlATJalumgD",
        "cellView": "form"
      },
      "execution_count": null,
      "outputs": []
    },
    {
      "cell_type": "markdown",
      "source": [
        "# Image Settings"
      ],
      "metadata": {
        "id": "1lHIt6mcmehV"
      }
    },
    {
      "cell_type": "code",
      "source": [
        "gaussian_blur_radius = 4.5 #@param{type: 'number'}\n",
        "#@markdown Gaussian Blur Radius in Pixels\n",
        "gaussian_noise_amount = 1 #@param{type: 'number'}\n",
        "#@markdown Gaussian Noise Amount: `0` - `1`+\n",
        "gaussian_noise_blur_radius = 2.75 #@param{type: 'number'}\n",
        "#@markdown Gaussiean Noise Blur Radius in Pixels\n",
        "gaussian_noise_greyscale = False #@param{type: 'boolean'}\n",
        "#@markdown Gaussian Noise Greyscale Mode\n",
        "gaussian_noise_double = False #@param{type: 'boolean'}\n",
        "#@markdown Double the Gaussian Noise Variation Applied (useful for low `gaussian_noise_amount`)\n",
        "resize_uploaded_images = True #@param{type: 'boolean'}\n",
        "#@markdown Resize images in the `raw_directory` according tot he `maximum_image_width`\n",
        "show_processed_images = True #@param{type: 'boolean'}\n",
        "#@markdown Show processed images after processing in PNG format"
      ],
      "metadata": {
        "cellView": "form",
        "id": "QsdkpOFOmg-h"
      },
      "execution_count": null,
      "outputs": []
    },
    {
      "cell_type": "markdown",
      "source": [
        "# Process Image(s)"
      ],
      "metadata": {
        "id": "1ycpg-W0ka7U"
      }
    },
    {
      "cell_type": "code",
      "execution_count": null,
      "metadata": {
        "id": "E0QQPs5akDkj",
        "cellView": "form"
      },
      "outputs": [],
      "source": [
        "#@title Process Images\n",
        "filenames = next(walk(sample_path), (None, None, []))[2]\n",
        "\n",
        "if filenames:\n",
        "  for img in sorted(filenames):\n",
        "    file_ext = os.path.splitext(img)[1]\n",
        "    if file_ext in valid_ext:\n",
        "      log.boldblue(f\"Processing: {img}\")\n",
        "      image_raw_path = sample_path+os.sep+img\n",
        "      if resize_uploaded_images:\n",
        "        resize_source_image(image_raw_path, maximum_image_width)\n",
        "      image_result_path = result_path+'/result_'+img\n",
        "      im1 = PILImage.open(image_raw_path) \n",
        "      im2 = im1.filter(ImageFilter.GaussianBlur(radius = gaussian_blur_radius))\n",
        "      im2.save(image_result_path)\n",
        "      print(' - Gaussian Blur applied')\n",
        "      im3 = cv2.imread(image_result_path)\n",
        "      gn = np.random.normal(0,gaussian_noise_amount,im3.size)\n",
        "      gn = gn.reshape(im3.shape[0],im3.shape[1],im3.shape[2]).astype('uint8')\n",
        "      if gaussian_noise_double:\n",
        "        gn2 = np.random.normal(0,gaussian_noise_amount,im3.size)\n",
        "        gn2 = gn2.reshape(im3.shape[0],im3.shape[1],im3.shape[2]).astype('uint8')\n",
        "      if gaussian_noise_greyscale:\n",
        "        gn = cv2.cvtColor(gn, cv2.COLOR_BGR2GRAY)\n",
        "        gn = cv2.cvtColor(gn, cv2.COLOR_BGR2RGB)\n",
        "        if gaussian_noise_double:\n",
        "          gn2 = cv2.cvtColor(gn2, cv2.COLOR_BGR2GRAY)\n",
        "          gn2 = cv2.cvtColor(gn2, cv2.COLOR_BGR2RGB)\n",
        "      if gaussian_noise_double:\n",
        "        gn = cv2.add(gn,gn2)\n",
        "      gi = cv2.add(im3,gn)\n",
        "      cv2.imwrite(image_result_path, gi)\n",
        "      print(' - Gaussian Noise applied')\n",
        "      im1 = PILImage.open(image_result_path) \n",
        "      im2 = im1.filter(ImageFilter.GaussianBlur(radius = gaussian_noise_blur_radius))\n",
        "      im2 = im2.filter(ImageFilter.SHARPEN)\n",
        "      im2.save(image_result_path)\n",
        "      print(' - Gaussian Noise Blur applied')\n",
        "      log.boldgreen(' - Complete')\n",
        "\n",
        "print(\"\")\n",
        "log.boldgreen('All images processed.')\n",
        "\n",
        "if show_processed_images:\n",
        "\n",
        "  clear_output()\n",
        "\n",
        "  filenames = next(walk(result_path), (None, None, []))[2]\n",
        "\n",
        "  print(\"\")\n",
        "  log.boldblue(\"Showing Processed Images:\")\n",
        "  print(\"\")\n",
        "\n",
        "  for img in filenames:\n",
        "    file_ext = os.path.splitext(img)[1]\n",
        "    if file_ext in valid_ext:\n",
        "      img_path = result_path+os.sep+img\n",
        "      imshow(img, img_path)\n",
        "\n"
      ]
    },
    {
      "cell_type": "markdown",
      "source": [
        "# Archive Results"
      ],
      "metadata": {
        "id": "njhsAXnNr7Mw"
      }
    },
    {
      "cell_type": "code",
      "source": [
        "download_filename = 'portrait_prep_result_images' #@param{type: 'string'}\n",
        "shutil.make_archive(download_filename, 'zip', result_path)\n",
        "files.download('.'+os.sep+download_filename+'.zip')"
      ],
      "metadata": {
        "cellView": "form",
        "id": "tFEf8jLMr-Wz"
      },
      "execution_count": null,
      "outputs": []
    }
  ]
}